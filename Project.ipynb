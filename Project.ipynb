{
 "cells": [
  {
   "cell_type": "markdown",
   "id": "8c356e0a",
   "metadata": {},
   "source": [
    "## Data Set Description"
   ]
  },
  {
   "cell_type": "markdown",
   "id": "3dd948e8",
   "metadata": {},
   "source": [
    "1. Name/Title: Speed Dating Experiment\n",
    "2. Link to Data: https://www.kaggle.com/datasets/annavictoria/speed-dating-experiment?resource=download\n",
    "3. Source / Origin: \n",
    "\t* Author or Creator: Anna Montoya\n",
    "\t* Publisher: kaggle\n",
    "\t* Version or Data Accessed: 1\n",
    "4. License: Unknown"
   ]
  },
  {
   "cell_type": "markdown",
   "id": "f4df4cb3",
   "metadata": {},
   "source": [
    "# Imports"
   ]
  },
  {
   "cell_type": "code",
   "execution_count": 1,
   "id": "5cc57c52",
   "metadata": {},
   "outputs": [],
   "source": [
    "import pandas as pd\n",
    "import matplotlib.pyplot as plt\n",
    "import numpy as np\n",
    "import seaborn as sns\n",
    "import statsmodels.api as sm\n",
    "from sklearn.linear_model import LogisticRegression\n",
    "from scipy.special import expit\n",
    "from sklearn import metrics\n",
    "from sklearn.decomposition import PCA\n",
    "from scipy import stats"
   ]
  },
  {
   "cell_type": "code",
   "execution_count": 2,
   "id": "1bcb8a4c",
   "metadata": {},
   "outputs": [
    {
     "data": {
      "text/html": [
       "<div>\n",
       "<style scoped>\n",
       "    .dataframe tbody tr th:only-of-type {\n",
       "        vertical-align: middle;\n",
       "    }\n",
       "\n",
       "    .dataframe tbody tr th {\n",
       "        vertical-align: top;\n",
       "    }\n",
       "\n",
       "    .dataframe thead th {\n",
       "        text-align: right;\n",
       "    }\n",
       "</style>\n",
       "<table border=\"1\" class=\"dataframe\">\n",
       "  <thead>\n",
       "    <tr style=\"text-align: right;\">\n",
       "      <th></th>\n",
       "      <th>iid</th>\n",
       "      <th>id</th>\n",
       "      <th>gender</th>\n",
       "      <th>idg</th>\n",
       "      <th>condtn</th>\n",
       "      <th>wave</th>\n",
       "      <th>round</th>\n",
       "      <th>position</th>\n",
       "      <th>positin1</th>\n",
       "      <th>order</th>\n",
       "      <th>...</th>\n",
       "      <th>attr3_3</th>\n",
       "      <th>sinc3_3</th>\n",
       "      <th>intel3_3</th>\n",
       "      <th>fun3_3</th>\n",
       "      <th>amb3_3</th>\n",
       "      <th>attr5_3</th>\n",
       "      <th>sinc5_3</th>\n",
       "      <th>intel5_3</th>\n",
       "      <th>fun5_3</th>\n",
       "      <th>amb5_3</th>\n",
       "    </tr>\n",
       "  </thead>\n",
       "  <tbody>\n",
       "    <tr>\n",
       "      <th>0</th>\n",
       "      <td>1</td>\n",
       "      <td>1.0</td>\n",
       "      <td>0</td>\n",
       "      <td>1</td>\n",
       "      <td>1</td>\n",
       "      <td>1</td>\n",
       "      <td>10</td>\n",
       "      <td>7</td>\n",
       "      <td>NaN</td>\n",
       "      <td>4</td>\n",
       "      <td>...</td>\n",
       "      <td>5.0</td>\n",
       "      <td>7.0</td>\n",
       "      <td>7.0</td>\n",
       "      <td>7.0</td>\n",
       "      <td>7.0</td>\n",
       "      <td>NaN</td>\n",
       "      <td>NaN</td>\n",
       "      <td>NaN</td>\n",
       "      <td>NaN</td>\n",
       "      <td>NaN</td>\n",
       "    </tr>\n",
       "    <tr>\n",
       "      <th>1</th>\n",
       "      <td>1</td>\n",
       "      <td>1.0</td>\n",
       "      <td>0</td>\n",
       "      <td>1</td>\n",
       "      <td>1</td>\n",
       "      <td>1</td>\n",
       "      <td>10</td>\n",
       "      <td>7</td>\n",
       "      <td>NaN</td>\n",
       "      <td>3</td>\n",
       "      <td>...</td>\n",
       "      <td>5.0</td>\n",
       "      <td>7.0</td>\n",
       "      <td>7.0</td>\n",
       "      <td>7.0</td>\n",
       "      <td>7.0</td>\n",
       "      <td>NaN</td>\n",
       "      <td>NaN</td>\n",
       "      <td>NaN</td>\n",
       "      <td>NaN</td>\n",
       "      <td>NaN</td>\n",
       "    </tr>\n",
       "    <tr>\n",
       "      <th>2</th>\n",
       "      <td>1</td>\n",
       "      <td>1.0</td>\n",
       "      <td>0</td>\n",
       "      <td>1</td>\n",
       "      <td>1</td>\n",
       "      <td>1</td>\n",
       "      <td>10</td>\n",
       "      <td>7</td>\n",
       "      <td>NaN</td>\n",
       "      <td>10</td>\n",
       "      <td>...</td>\n",
       "      <td>5.0</td>\n",
       "      <td>7.0</td>\n",
       "      <td>7.0</td>\n",
       "      <td>7.0</td>\n",
       "      <td>7.0</td>\n",
       "      <td>NaN</td>\n",
       "      <td>NaN</td>\n",
       "      <td>NaN</td>\n",
       "      <td>NaN</td>\n",
       "      <td>NaN</td>\n",
       "    </tr>\n",
       "    <tr>\n",
       "      <th>3</th>\n",
       "      <td>1</td>\n",
       "      <td>1.0</td>\n",
       "      <td>0</td>\n",
       "      <td>1</td>\n",
       "      <td>1</td>\n",
       "      <td>1</td>\n",
       "      <td>10</td>\n",
       "      <td>7</td>\n",
       "      <td>NaN</td>\n",
       "      <td>5</td>\n",
       "      <td>...</td>\n",
       "      <td>5.0</td>\n",
       "      <td>7.0</td>\n",
       "      <td>7.0</td>\n",
       "      <td>7.0</td>\n",
       "      <td>7.0</td>\n",
       "      <td>NaN</td>\n",
       "      <td>NaN</td>\n",
       "      <td>NaN</td>\n",
       "      <td>NaN</td>\n",
       "      <td>NaN</td>\n",
       "    </tr>\n",
       "    <tr>\n",
       "      <th>4</th>\n",
       "      <td>1</td>\n",
       "      <td>1.0</td>\n",
       "      <td>0</td>\n",
       "      <td>1</td>\n",
       "      <td>1</td>\n",
       "      <td>1</td>\n",
       "      <td>10</td>\n",
       "      <td>7</td>\n",
       "      <td>NaN</td>\n",
       "      <td>7</td>\n",
       "      <td>...</td>\n",
       "      <td>5.0</td>\n",
       "      <td>7.0</td>\n",
       "      <td>7.0</td>\n",
       "      <td>7.0</td>\n",
       "      <td>7.0</td>\n",
       "      <td>NaN</td>\n",
       "      <td>NaN</td>\n",
       "      <td>NaN</td>\n",
       "      <td>NaN</td>\n",
       "      <td>NaN</td>\n",
       "    </tr>\n",
       "  </tbody>\n",
       "</table>\n",
       "<p>5 rows × 195 columns</p>\n",
       "</div>"
      ],
      "text/plain": [
       "   iid   id  gender  idg  condtn  wave  round  position  positin1  order  ...  \\\n",
       "0    1  1.0       0    1       1     1     10         7       NaN      4  ...   \n",
       "1    1  1.0       0    1       1     1     10         7       NaN      3  ...   \n",
       "2    1  1.0       0    1       1     1     10         7       NaN     10  ...   \n",
       "3    1  1.0       0    1       1     1     10         7       NaN      5  ...   \n",
       "4    1  1.0       0    1       1     1     10         7       NaN      7  ...   \n",
       "\n",
       "   attr3_3  sinc3_3  intel3_3  fun3_3  amb3_3  attr5_3  sinc5_3  intel5_3  \\\n",
       "0      5.0      7.0       7.0     7.0     7.0      NaN      NaN       NaN   \n",
       "1      5.0      7.0       7.0     7.0     7.0      NaN      NaN       NaN   \n",
       "2      5.0      7.0       7.0     7.0     7.0      NaN      NaN       NaN   \n",
       "3      5.0      7.0       7.0     7.0     7.0      NaN      NaN       NaN   \n",
       "4      5.0      7.0       7.0     7.0     7.0      NaN      NaN       NaN   \n",
       "\n",
       "   fun5_3  amb5_3  \n",
       "0     NaN     NaN  \n",
       "1     NaN     NaN  \n",
       "2     NaN     NaN  \n",
       "3     NaN     NaN  \n",
       "4     NaN     NaN  \n",
       "\n",
       "[5 rows x 195 columns]"
      ]
     },
     "execution_count": 2,
     "metadata": {},
     "output_type": "execute_result"
    }
   ],
   "source": [
    "df = pd.read_csv('Speed Dating Data.csv', encoding ='ISO-8859-1')\n",
    "df.head(5)"
   ]
  },
  {
   "cell_type": "markdown",
   "id": "40420b6d",
   "metadata": {},
   "source": [
    "# Exploring The Data"
   ]
  },
  {
   "cell_type": "code",
   "execution_count": 3,
   "id": "a1b15c78",
   "metadata": {},
   "outputs": [
    {
     "name": "stdout",
     "output_type": "stream",
     "text": [
      "Number of speed dates gone on: 8378\n"
     ]
    }
   ],
   "source": [
    "dates_num = len(df.index)\n",
    "print(\"Number of speed dates gone on: \" + str(dates_num))"
   ]
  },
  {
   "cell_type": "code",
   "execution_count": 4,
   "id": "6badc5f6",
   "metadata": {},
   "outputs": [
    {
     "name": "stdout",
     "output_type": "stream",
     "text": [
      "Number of participants: 551\n"
     ]
    }
   ],
   "source": [
    "participants = df['iid'].nunique()\n",
    "print(\"Number of participants: \" + str(participants))"
   ]
  },
  {
   "cell_type": "markdown",
   "id": "997d5cdd",
   "metadata": {},
   "source": [
    "## Gender Breakdown"
   ]
  },
  {
   "cell_type": "code",
   "execution_count": 5,
   "id": "f5c2a2ab",
   "metadata": {},
   "outputs": [],
   "source": [
    "unique_participants = df.groupby('iid').head(1)"
   ]
  },
  {
   "cell_type": "code",
   "execution_count": 6,
   "id": "076daf40",
   "metadata": {},
   "outputs": [
    {
     "name": "stdout",
     "output_type": "stream",
     "text": [
      "Number of women: 274\n",
      "Number of men: 277\n"
     ]
    }
   ],
   "source": [
    "women = unique_participants['gender'].value_counts()[0]\n",
    "men = unique_participants['gender'].value_counts()[1]\n",
    "print(\"Number of women: \" + str(women))\n",
    "print(\"Number of men: \" + str(men))"
   ]
  },
  {
   "cell_type": "markdown",
   "id": "9f915be2",
   "metadata": {},
   "source": [
    "There is an about even split of men and women participants."
   ]
  },
  {
   "cell_type": "markdown",
   "id": "bc55558d",
   "metadata": {},
   "source": [
    "## Race Breakdown"
   ]
  },
  {
   "cell_type": "code",
   "execution_count": 7,
   "id": "fa1fccf8",
   "metadata": {},
   "outputs": [
    {
     "data": {
      "text/plain": [
       "2.0    4727\n",
       "4.0    1982\n",
       "3.0     664\n",
       "6.0     522\n",
       "1.0     420\n",
       "Name: race, dtype: int64"
      ]
     },
     "execution_count": 7,
     "metadata": {},
     "output_type": "execute_result"
    }
   ],
   "source": [
    "df['race'].value_counts()"
   ]
  },
  {
   "cell_type": "code",
   "execution_count": 8,
   "id": "81e1285b",
   "metadata": {},
   "outputs": [
    {
     "data": {
      "image/png": "[encoded data removed]",
      "text/plain": [
       "<Figure size 432x432 with 1 Axes>"
      ]
     },
     "metadata": {},
     "output_type": "display_data"
    }
   ],
   "source": [
    "black = df['race'].value_counts()[1]\n",
    "white = df['race'].value_counts()[2]\n",
    "latino = df['race'].value_counts()[3]\n",
    "asian = df['race'].value_counts()[4]\n",
    "other = df['race'].value_counts()[6]\n",
    "races = np.array([black, white, latino, asian, other])\n",
    "race_labels = 'Black', 'White', 'Latino', 'Asian', 'Other'\n",
    "plt.figure(figsize=(6, 6))\n",
    "plt.pie(races, labels = race_labels, autopct='%1.1f%%')\n",
    "plt.show() "
   ]
  },
  {
   "cell_type": "markdown",
   "id": "dab2e016",
   "metadata": {},
   "source": [
    "The majority of participants are white (with over half of them being so) with other minority races being much less represented."
   ]
  },
  {
   "cell_type": "markdown",
   "id": "3b7d34e0",
   "metadata": {},
   "source": [
    "## Fields and Careers"
   ]
  },
  {
   "cell_type": "markdown",
   "id": "ca392faf",
   "metadata": {},
   "source": [
    "### Top 5 Fields Participants Are In"
   ]
  },
  {
   "cell_type": "code",
   "execution_count": 9,
   "id": "2e810430",
   "metadata": {},
   "outputs": [
    {
     "name": "stdout",
     "output_type": "stream",
     "text": [
      "1. Business/Econ/Finance\n",
      "2. Biological Sciences/Chemistry/Physics\n",
      "3. Engineering\n",
      "4. Political Science/International Affairs\n",
      "5. Social Science, Psychologist\n"
     ]
    }
   ],
   "source": [
    "fields = {\n",
    "  1: \"Law\",\n",
    "  2: \"Math\",\n",
    "  3: \"Social Science, Psychologist\",\n",
    "  4: \"Medical Science, Pharmaceuticals, and Bio Tech\",\n",
    "  5: \"Engineering\",\n",
    "  6: \"English/Creative Writing/ Journalism\",\n",
    "  7: \"History/Religion/Philosophy\",\n",
    "  8: \"Business/Econ/Finance\",\n",
    "  9: \"Education, Academia\",\n",
    "  10: \"Biological Sciences/Chemistry/Physics\",\n",
    "  11: \"Social Work\",\n",
    "  12: \"Undergrad/undecided\",\n",
    "  13: \"Political Science/International Affairs\",\n",
    "  14: \"Film\",\n",
    "  15: \"Fine Arts/Arts Administration\",\n",
    "  16: \"Languages\",\n",
    "  17: \"Architecture\",\n",
    "  18: \"Other\"\n",
    "}\n",
    "top_5_fields = df['field_cd'].value_counts().nlargest(5).index.tolist()\n",
    "i = 1\n",
    "for code in top_5_fields:\n",
    "    print(str(i) + \". \" + fields[code])\n",
    "    i += 1"
   ]
  },
  {
   "cell_type": "markdown",
   "id": "482872fd",
   "metadata": {},
   "source": [
    "### Top 5 Careers Participants Want To Go Into"
   ]
  },
  {
   "cell_type": "code",
   "execution_count": 10,
   "id": "f04072aa",
   "metadata": {},
   "outputs": [
    {
     "name": "stdout",
     "output_type": "stream",
     "text": [
      "1. Academic/Research\n",
      "2. Banking/Consulting/Finance/Marketing/Business/CEO/Entrepreneur/Admin\n",
      "3. Creative Arts/Entertainment\n",
      "4. Lawyer\n",
      "5. International/Humanitarian Affairs\n"
     ]
    }
   ],
   "source": [
    "careers = {\n",
    "  1: \"Lawyer\",\n",
    "  2: \"Academic/Research\",\n",
    "  3: \"Psychologist\",\n",
    "  4: \"Doctor/Medicine\",\n",
    "  5: \"Engineer\",\n",
    "  6: \"Creative Arts/Entertainment\",\n",
    "  7: \"Banking/Consulting/Finance/Marketing/Business/CEO/Entrepreneur/Admin\",\n",
    "  8: \"Real Estate\",\n",
    "  9: \"International/Humanitarian Affairs\",\n",
    "  10: \"Undecided\",\n",
    "  11: \"Social Work\",\n",
    "  12: \"Speech Pathology\",\n",
    "  13: \"Politics\",\n",
    "  14: \"Pro sports/Athletics\",\n",
    "  15: \"Other\",\n",
    "  16: \"Journalism\",\n",
    "  17: \"Architecture\",\n",
    "}\n",
    "top_5_careers = df['career_c'].value_counts().nlargest(5).index.tolist()\n",
    "i = 1\n",
    "for code in top_5_careers:\n",
    "    print(str(i) + \". \" + careers[code])\n",
    "    i += 1"
   ]
  },
  {
   "cell_type": "markdown",
   "id": "832934de",
   "metadata": {},
   "source": [
    "## Dating/Going Out Frequency"
   ]
  },
  {
   "cell_type": "markdown",
   "id": "266f14d5",
   "metadata": {},
   "source": [
    "### Dating Frequency of Participants"
   ]
  },
  {
   "cell_type": "code",
   "execution_count": 11,
   "id": "2b5c798a",
   "metadata": {},
   "outputs": [
    {
     "data": {
      "image/png": "[encoded data removed]",
      "text/plain": [
       "<Figure size 864x576 with 1 Axes>"
      ]
     },
     "metadata": {
      "needs_background": "light"
     },
     "output_type": "display_data"
    }
   ],
   "source": [
    "dates = unique_participants['date'].value_counts();\n",
    "date_frequencies = {\n",
    "  \"Several times a week\": dates[1],\n",
    "  \"Twice a week\": dates[2],\n",
    "  \"Once a week\": dates[3],\n",
    "  \"Twice a month\": dates[4],\n",
    "  \"Once a month\": dates[5],\n",
    "  \"Several times a year\": dates[6],\n",
    "  \"Almost never\": dates[7]\n",
    "}\n",
    "labels = list(date_frequencies.keys())\n",
    "values = list(date_frequencies.values())\n",
    "  \n",
    "fig = plt.figure(figsize = (12, 8))\n",
    " \n",
    "plt.bar(labels, values, width = 0.4)\n",
    " \n",
    "plt.xlabel(\"Dating Frequencies\")\n",
    "plt.ylabel(\"Number of Participants\")\n",
    "plt.title(\"How Often Participants Go On Dates\")\n",
    "plt.show()"
   ]
  },
  {
   "cell_type": "markdown",
   "id": "f5f2223b",
   "metadata": {},
   "source": [
    "Overall, the participants date at a rather below average frequency with more than half the participants only going on a date at most once a month."
   ]
  },
  {
   "cell_type": "markdown",
   "id": "08f43ffb",
   "metadata": {},
   "source": [
    "### Going Out Frequency of Participants"
   ]
  },
  {
   "cell_type": "code",
   "execution_count": 12,
   "id": "26301d4c",
   "metadata": {},
   "outputs": [
    {
     "data": {
      "image/png": "[encoded data removed]",
      "text/plain": [
       "<Figure size 864x576 with 1 Axes>"
      ]
     },
     "metadata": {
      "needs_background": "light"
     },
     "output_type": "display_data"
    }
   ],
   "source": [
    "go_outs = unique_participants['go_out'].value_counts();\n",
    "go_out_frequencies = {\n",
    "  \"Several times a week\": go_outs[1],\n",
    "  \"Twice a week\": go_outs[2],\n",
    "  \"Once a week\": go_outs[3],\n",
    "  \"Twice a month\": go_outs[4],\n",
    "  \"Once a month\": go_outs[5],\n",
    "  \"Several times a year\": go_outs[6],\n",
    "  \"Almost never\": go_outs[7]\n",
    "}\n",
    "labels = list(go_out_frequencies.keys())\n",
    "values = list(go_out_frequencies.values())\n",
    "  \n",
    "fig = plt.figure(figsize = (12, 8))\n",
    " \n",
    "plt.bar(labels, values, width = 0.4)\n",
    " \n",
    "plt.xlabel(\"Going Out Frequencies\")\n",
    "plt.ylabel(\"Number of Participants\")\n",
    "plt.title(\"How Often Participants Go Out (Not Necessarily On Dates)\")\n",
    "plt.show()"
   ]
  },
  {
   "cell_type": "markdown",
   "id": "8cd90225",
   "metadata": {},
   "source": [
    "Overall, the participants go out very often with the vast majority of participants going out at least once a week."
   ]
  },
  {
   "cell_type": "markdown",
   "id": "14868130",
   "metadata": {},
   "source": [
    "## Age Distribution of Participants"
   ]
  },
  {
   "cell_type": "code",
   "execution_count": 13,
   "id": "a36622bf",
   "metadata": {},
   "outputs": [
    {
     "name": "stderr",
     "output_type": "stream",
     "text": [
      "/var/folders/fy/qcsmpssn7c92sqwtlmrx28j80000gn/T/ipykernel_22110/4207629201.py:1: UserWarning: Boolean Series key will be reindexed to match DataFrame index.\n",
      "  age = unique_participants[np.isfinite(df['age'])]['age']\n"
     ]
    },
    {
     "data": {
      "text/plain": [
       "Text(0, 0.5, 'Frequency')"
      ]
     },
     "execution_count": 13,
     "metadata": {},
     "output_type": "execute_result"
    },
    {
     "data": {
      "image/png": "[encoded data removed]",
      "text/plain": [
       "<Figure size 432x288 with 1 Axes>"
      ]
     },
     "metadata": {
      "needs_background": "light"
     },
     "output_type": "display_data"
    }
   ],
   "source": [
    "age = unique_participants[np.isfinite(df['age'])]['age']\n",
    "plt.hist(age.values)\n",
    "plt.xlabel('Age')\n",
    "plt.ylabel('Frequency')"
   ]
  },
  {
   "cell_type": "code",
   "execution_count": 14,
   "id": "79cf2b1c",
   "metadata": {},
   "outputs": [
    {
     "name": "stdout",
     "output_type": "stream",
     "text": [
      "Mean Age: 26.358927924664975\n"
     ]
    }
   ],
   "source": [
    "mean_age = df['age'].mean()\n",
    "print(\"Mean Age: \" + str(mean_age))"
   ]
  },
  {
   "cell_type": "markdown",
   "id": "99f8998e",
   "metadata": {},
   "source": [
    "The majority of participants are in their 20s to early 30s. The mean age is 26.36 years old"
   ]
  },
  {
   "cell_type": "markdown",
   "id": "30acea7f",
   "metadata": {},
   "source": [
    "## Percentage Of Dates That Resulted In Matches"
   ]
  },
  {
   "cell_type": "code",
   "execution_count": 15,
   "id": "21253201",
   "metadata": {},
   "outputs": [
    {
     "name": "stdout",
     "output_type": "stream",
     "text": [
      "16.47171162568632% of dates resulted in a match\n"
     ]
    }
   ],
   "source": [
    "df['match'].value_counts()\n",
    "percent_matched = df['match'].value_counts()[1]/len(df.index)\n",
    "print(str(percent_matched*100) + \"% of dates resulted in a match\")"
   ]
  },
  {
   "cell_type": "markdown",
   "id": "ed91af49",
   "metadata": {},
   "source": [
    "## Percentage Of Participants That Got At Least One Match"
   ]
  },
  {
   "cell_type": "code",
   "execution_count": 16,
   "id": "60c3b004",
   "metadata": {},
   "outputs": [],
   "source": [
    "# first number is matches, second number is dates, third number is expected matches\n",
    "match_success = {1:[0, df['round'][0], df['match_es'][0]]}\n",
    "\n",
    "for i in df.index:\n",
    "    iid = df['iid'][i]\n",
    "    if iid not in match_success:\n",
    "        match_success[iid] = [0, df['round'][i], df['match_es'][i]]\n",
    "    if df['match'][i] == 1:\n",
    "        match_success[iid][0] += 1"
   ]
  },
  {
   "cell_type": "code",
   "execution_count": 17,
   "id": "65e052a9",
   "metadata": {},
   "outputs": [
    {
     "name": "stdout",
     "output_type": "stream",
     "text": [
      "82.03266787658802% of participants got at least one match\n"
     ]
    }
   ],
   "source": [
    "got_a_match = 0\n",
    "for iid in match_success:\n",
    "    if match_success[iid][0] > 0:\n",
    "        got_a_match += 1\n",
    "print(str(got_a_match/participants*100) + \"% of participants got at least one match\")"
   ]
  },
  {
   "cell_type": "markdown",
   "id": "94ac2a51",
   "metadata": {},
   "source": [
    "## Average Match Rate"
   ]
  },
  {
   "cell_type": "code",
   "execution_count": 18,
   "id": "174d5246",
   "metadata": {},
   "outputs": [
    {
     "name": "stdout",
     "output_type": "stream",
     "text": [
      "The average participant had a match rate of 16.85316709113156%\n"
     ]
    }
   ],
   "source": [
    "match_success_pct = np.empty([551])\n",
    "i = 0\n",
    "for iid in match_success:\n",
    "    match_success_pct[i] = match_success[iid][0]/match_success[iid][1]\n",
    "    i += 1\n",
    "mean_match = match_success_pct.mean()\n",
    "print(\"The average participant had a match rate of \" + str(mean_match*100) + \"%\")"
   ]
  },
  {
   "cell_type": "markdown",
   "id": "992c526f",
   "metadata": {},
   "source": [
    "# Cleaning The Data"
   ]
  },
  {
   "cell_type": "markdown",
   "id": "74b95847",
   "metadata": {},
   "source": [
    "## Checking For Null Values"
   ]
  },
  {
   "cell_type": "code",
   "execution_count": 19,
   "id": "0ad298e1",
   "metadata": {},
   "outputs": [
    {
     "data": {
      "text/plain": [
       "iid            0\n",
       "id             1\n",
       "gender         0\n",
       "idg            0\n",
       "condtn         0\n",
       "wave           0\n",
       "round          0\n",
       "position       0\n",
       "positin1    1846\n",
       "order          0\n",
       "partner        0\n",
       "pid           10\n",
       "match          0\n",
       "int_corr     158\n",
       "samerace       0\n",
       "age_o        104\n",
       "race_o        73\n",
       "pf_o_att      89\n",
       "pf_o_sin      89\n",
       "pf_o_int      89\n",
       "pf_o_fun      98\n",
       "pf_o_amb     107\n",
       "pf_o_sha     129\n",
       "dec_o          0\n",
       "attr_o       212\n",
       "sinc_o       287\n",
       "intel_o      306\n",
       "fun_o        360\n",
       "amb_o        722\n",
       "shar_o      1076\n",
       "like_o       250\n",
       "prob_o       318\n",
       "met_o        385\n",
       "age           95\n",
       "field         63\n",
       "field_cd      82\n",
       "undergra    3464\n",
       "mn_sat      5245\n",
       "tuition     4795\n",
       "race          63\n",
       "imprace       79\n",
       "imprelig      79\n",
       "from          79\n",
       "zipcode     1064\n",
       "income      4099\n",
       "goal          79\n",
       "date          97\n",
       "go_out        79\n",
       "career        89\n",
       "career_c     138\n",
       "sports        79\n",
       "tvsports      79\n",
       "exercise      79\n",
       "dining        79\n",
       "museums       79\n",
       "art           79\n",
       "hiking        79\n",
       "gaming        79\n",
       "clubbing      79\n",
       "reading       79\n",
       "tv            79\n",
       "theater       79\n",
       "movies        79\n",
       "concerts      79\n",
       "music         79\n",
       "shopping      79\n",
       "yoga          79\n",
       "exphappy     101\n",
       "expnum      6578\n",
       "attr1_1       79\n",
       "sinc1_1       79\n",
       "intel1_1      79\n",
       "fun1_1        89\n",
       "amb1_1        99\n",
       "shar1_1      121\n",
       "attr4_1     1889\n",
       "sinc4_1     1889\n",
       "intel4_1    1889\n",
       "fun4_1      1889\n",
       "amb4_1      1889\n",
       "shar4_1     1911\n",
       "attr2_1       79\n",
       "sinc2_1       79\n",
       "intel2_1      79\n",
       "fun2_1        79\n",
       "amb2_1        89\n",
       "shar2_1       89\n",
       "attr3_1      105\n",
       "sinc3_1      105\n",
       "fun3_1       105\n",
       "intel3_1     105\n",
       "amb3_1       105\n",
       "attr5_1     3472\n",
       "sinc5_1     3472\n",
       "intel5_1    3472\n",
       "fun5_1      3472\n",
       "amb5_1      3472\n",
       "dec            0\n",
       "attr         202\n",
       "sinc         277\n",
       "intel        296\n",
       "fun          350\n",
       "amb          712\n",
       "shar        1067\n",
       "like         240\n",
       "prob         309\n",
       "met          375\n",
       "match_es    1173\n",
       "attr1_s     4282\n",
       "sinc1_s     4282\n",
       "intel1_s    4282\n",
       "fun1_s      4282\n",
       "amb1_s      4282\n",
       "shar1_s     4282\n",
       "attr3_s     4378\n",
       "sinc3_s     4378\n",
       "intel3_s    4378\n",
       "fun3_s      4378\n",
       "amb3_s      4378\n",
       "satis_2      915\n",
       "length       915\n",
       "numdat_2     945\n",
       "attr7_2     6394\n",
       "sinc7_2     6423\n",
       "intel7_2    6394\n",
       "fun7_2      6394\n",
       "amb7_2      6423\n",
       "shar7_2     6404\n",
       "attr1_2      933\n",
       "sinc1_2      915\n",
       "intel1_2     915\n",
       "fun1_2       915\n",
       "amb1_2       915\n",
       "shar1_2      915\n",
       "attr4_2     2603\n",
       "sinc4_2     2603\n",
       "intel4_2    2603\n",
       "fun4_2      2603\n",
       "amb4_2      2603\n",
       "shar4_2     2603\n",
       "attr2_2     2603\n",
       "sinc2_2     2603\n",
       "intel2_2    2603\n",
       "fun2_2      2603\n",
       "amb2_2      2603\n",
       "shar2_2     2603\n",
       "attr3_2      915\n",
       "sinc3_2      915\n",
       "intel3_2     915\n",
       "fun3_2       915\n",
       "amb3_2       915\n",
       "attr5_2     4001\n",
       "sinc5_2     4001\n",
       "intel5_2    4001\n",
       "fun5_2      4001\n",
       "amb5_2      4001\n",
       "you_call    4404\n",
       "them_cal    4404\n",
       "date_3      4404\n",
       "numdat_3    6882\n",
       "num_in_3    7710\n",
       "attr1_3     4404\n",
       "sinc1_3     4404\n",
       "intel1_3    4404\n",
       "fun1_3      4404\n",
       "amb1_3      4404\n",
       "shar1_3     4404\n",
       "attr7_3     6362\n",
       "sinc7_3     6362\n",
       "intel7_3    6362\n",
       "fun7_3      6362\n",
       "amb7_3      6362\n",
       "shar7_3     6362\n",
       "attr4_3     5419\n",
       "sinc4_3     5419\n",
       "intel4_3    5419\n",
       "fun4_3      5419\n",
       "amb4_3      5419\n",
       "shar4_3     5419\n",
       "attr2_3     5419\n",
       "sinc2_3     5419\n",
       "intel2_3    5419\n",
       "fun2_3      5419\n",
       "amb2_3      5419\n",
       "shar2_3     6362\n",
       "attr3_3     4404\n",
       "sinc3_3     4404\n",
       "intel3_3    4404\n",
       "fun3_3      4404\n",
       "amb3_3      4404\n",
       "attr5_3     6362\n",
       "sinc5_3     6362\n",
       "intel5_3    6362\n",
       "fun5_3      6362\n",
       "amb5_3      6362\n",
       "dtype: int64"
      ]
     },
     "execution_count": 19,
     "metadata": {},
     "output_type": "execute_result"
    }
   ],
   "source": [
    "pd.set_option('display.max_rows', None)\n",
    "df.isnull().sum()"
   ]
  },
  {
   "cell_type": "markdown",
   "id": "ccac9444",
   "metadata": {},
   "source": [
    "## Removing All Columns Where Null Values Encompass 15% or More Of It and Other Unecessary Info"
   ]
  },
  {
   "cell_type": "code",
   "execution_count": 20,
   "id": "83842f49",
   "metadata": {},
   "outputs": [],
   "source": [
    "perc = 15.0\n",
    "min_count =  int(((100-perc)/100)*df.shape[0] + 1)\n",
    "df_less_nulls = df.dropna(axis=1, thresh=min_count)\n",
    "df_less_nulls_rest = df_less_nulls.iloc[:, 10:]\n",
    "df = pd.concat([df_less_nulls.iloc[:, 0], df_less_nulls.iloc[:, 2], df_less_nulls.iloc[:, 6], \n",
    "                df_less_nulls.iloc[:, 8], df_less_nulls_rest], axis=1)"
   ]
  },
  {
   "cell_type": "code",
   "execution_count": 21,
   "id": "82cb42e8",
   "metadata": {},
   "outputs": [
    {
     "data": {
      "text/plain": [
       "iid            0\n",
       "gender         0\n",
       "round          0\n",
       "order          0\n",
       "pid           10\n",
       "match          0\n",
       "int_corr     158\n",
       "samerace       0\n",
       "age_o        104\n",
       "race_o        73\n",
       "pf_o_att      89\n",
       "pf_o_sin      89\n",
       "pf_o_int      89\n",
       "pf_o_fun      98\n",
       "pf_o_amb     107\n",
       "pf_o_sha     129\n",
       "dec_o          0\n",
       "attr_o       212\n",
       "sinc_o       287\n",
       "intel_o      306\n",
       "fun_o        360\n",
       "amb_o        722\n",
       "shar_o      1076\n",
       "like_o       250\n",
       "prob_o       318\n",
       "met_o        385\n",
       "age           95\n",
       "field         63\n",
       "field_cd      82\n",
       "race          63\n",
       "imprace       79\n",
       "imprelig      79\n",
       "from          79\n",
       "zipcode     1064\n",
       "goal          79\n",
       "date          97\n",
       "go_out        79\n",
       "career        89\n",
       "career_c     138\n",
       "sports        79\n",
       "tvsports      79\n",
       "exercise      79\n",
       "dining        79\n",
       "museums       79\n",
       "art           79\n",
       "hiking        79\n",
       "gaming        79\n",
       "clubbing      79\n",
       "reading       79\n",
       "tv            79\n",
       "theater       79\n",
       "movies        79\n",
       "concerts      79\n",
       "music         79\n",
       "shopping      79\n",
       "yoga          79\n",
       "exphappy     101\n",
       "attr1_1       79\n",
       "sinc1_1       79\n",
       "intel1_1      79\n",
       "fun1_1        89\n",
       "amb1_1        99\n",
       "shar1_1      121\n",
       "attr2_1       79\n",
       "sinc2_1       79\n",
       "intel2_1      79\n",
       "fun2_1        79\n",
       "amb2_1        89\n",
       "shar2_1       89\n",
       "attr3_1      105\n",
       "sinc3_1      105\n",
       "fun3_1       105\n",
       "intel3_1     105\n",
       "amb3_1       105\n",
       "dec            0\n",
       "attr         202\n",
       "sinc         277\n",
       "intel        296\n",
       "fun          350\n",
       "amb          712\n",
       "shar        1067\n",
       "like         240\n",
       "prob         309\n",
       "met          375\n",
       "match_es    1173\n",
       "satis_2      915\n",
       "length       915\n",
       "numdat_2     945\n",
       "attr1_2      933\n",
       "sinc1_2      915\n",
       "intel1_2     915\n",
       "fun1_2       915\n",
       "amb1_2       915\n",
       "shar1_2      915\n",
       "attr3_2      915\n",
       "sinc3_2      915\n",
       "intel3_2     915\n",
       "fun3_2       915\n",
       "amb3_2       915\n",
       "dtype: int64"
      ]
     },
     "execution_count": 21,
     "metadata": {},
     "output_type": "execute_result"
    }
   ],
   "source": [
    "df.isnull().sum()"
   ]
  },
  {
   "cell_type": "markdown",
   "id": "4f0e3e4c",
   "metadata": {},
   "source": [
    "## Removing Columns That Don't Contain Numerical Data"
   ]
  },
  {
   "cell_type": "code",
   "execution_count": 22,
   "id": "1d989bac",
   "metadata": {},
   "outputs": [
    {
     "data": {
      "text/plain": [
       "iid           int64\n",
       "gender        int64\n",
       "round         int64\n",
       "order         int64\n",
       "pid         float64\n",
       "match         int64\n",
       "int_corr    float64\n",
       "samerace      int64\n",
       "age_o       float64\n",
       "race_o      float64\n",
       "pf_o_att    float64\n",
       "pf_o_sin    float64\n",
       "pf_o_int    float64\n",
       "pf_o_fun    float64\n",
       "pf_o_amb    float64\n",
       "pf_o_sha    float64\n",
       "dec_o         int64\n",
       "attr_o      float64\n",
       "sinc_o      float64\n",
       "intel_o     float64\n",
       "fun_o       float64\n",
       "amb_o       float64\n",
       "shar_o      float64\n",
       "like_o      float64\n",
       "prob_o      float64\n",
       "met_o       float64\n",
       "age         float64\n",
       "field        object\n",
       "field_cd    float64\n",
       "race        float64\n",
       "imprace     float64\n",
       "imprelig    float64\n",
       "from         object\n",
       "zipcode      object\n",
       "goal        float64\n",
       "date        float64\n",
       "go_out      float64\n",
       "career       object\n",
       "career_c    float64\n",
       "sports      float64\n",
       "tvsports    float64\n",
       "exercise    float64\n",
       "dining      float64\n",
       "museums     float64\n",
       "art         float64\n",
       "hiking      float64\n",
       "gaming      float64\n",
       "clubbing    float64\n",
       "reading     float64\n",
       "tv          float64\n",
       "theater     float64\n",
       "movies      float64\n",
       "concerts    float64\n",
       "music       float64\n",
       "shopping    float64\n",
       "yoga        float64\n",
       "exphappy    float64\n",
       "attr1_1     float64\n",
       "sinc1_1     float64\n",
       "intel1_1    float64\n",
       "fun1_1      float64\n",
       "amb1_1      float64\n",
       "shar1_1     float64\n",
       "attr2_1     float64\n",
       "sinc2_1     float64\n",
       "intel2_1    float64\n",
       "fun2_1      float64\n",
       "amb2_1      float64\n",
       "shar2_1     float64\n",
       "attr3_1     float64\n",
       "sinc3_1     float64\n",
       "fun3_1      float64\n",
       "intel3_1    float64\n",
       "amb3_1      float64\n",
       "dec           int64\n",
       "attr        float64\n",
       "sinc        float64\n",
       "intel       float64\n",
       "fun         float64\n",
       "amb         float64\n",
       "shar        float64\n",
       "like        float64\n",
       "prob        float64\n",
       "met         float64\n",
       "match_es    float64\n",
       "satis_2     float64\n",
       "length      float64\n",
       "numdat_2    float64\n",
       "attr1_2     float64\n",
       "sinc1_2     float64\n",
       "intel1_2    float64\n",
       "fun1_2      float64\n",
       "amb1_2      float64\n",
       "shar1_2     float64\n",
       "attr3_2     float64\n",
       "sinc3_2     float64\n",
       "intel3_2    float64\n",
       "fun3_2      float64\n",
       "amb3_2      float64\n",
       "dtype: object"
      ]
     },
     "execution_count": 22,
     "metadata": {},
     "output_type": "execute_result"
    }
   ],
   "source": [
    "df.dtypes"
   ]
  },
  {
   "cell_type": "code",
   "execution_count": 23,
   "id": "8ad0c2dd",
   "metadata": {},
   "outputs": [],
   "source": [
    "df = df.drop(['field', 'from', 'career'], axis=1)"
   ]
  },
  {
   "cell_type": "code",
   "execution_count": 24,
   "id": "6c0fdf1c",
   "metadata": {},
   "outputs": [
    {
     "data": {
      "text/html": [
       "<div>\n",
       "<style scoped>\n",
       "    .dataframe tbody tr th:only-of-type {\n",
       "        vertical-align: middle;\n",
       "    }\n",
       "\n",
       "    .dataframe tbody tr th {\n",
       "        vertical-align: top;\n",
       "    }\n",
       "\n",
       "    .dataframe thead th {\n",
       "        text-align: right;\n",
       "    }\n",
       "</style>\n",
       "<table border=\"1\" class=\"dataframe\">\n",
       "  <thead>\n",
       "    <tr style=\"text-align: right;\">\n",
       "      <th></th>\n",
       "      <th>iid</th>\n",
       "      <th>gender</th>\n",
       "      <th>round</th>\n",
       "      <th>order</th>\n",
       "      <th>pid</th>\n",
       "      <th>match</th>\n",
       "      <th>int_corr</th>\n",
       "      <th>samerace</th>\n",
       "      <th>age_o</th>\n",
       "      <th>race_o</th>\n",
       "      <th>...</th>\n",
       "      <th>sinc1_2</th>\n",
       "      <th>intel1_2</th>\n",
       "      <th>fun1_2</th>\n",
       "      <th>amb1_2</th>\n",
       "      <th>shar1_2</th>\n",
       "      <th>attr3_2</th>\n",
       "      <th>sinc3_2</th>\n",
       "      <th>intel3_2</th>\n",
       "      <th>fun3_2</th>\n",
       "      <th>amb3_2</th>\n",
       "    </tr>\n",
       "  </thead>\n",
       "  <tbody>\n",
       "    <tr>\n",
       "      <th>0</th>\n",
       "      <td>1</td>\n",
       "      <td>0</td>\n",
       "      <td>10</td>\n",
       "      <td>4</td>\n",
       "      <td>11.0</td>\n",
       "      <td>0</td>\n",
       "      <td>0.14</td>\n",
       "      <td>0</td>\n",
       "      <td>27.0</td>\n",
       "      <td>2.0</td>\n",
       "      <td>...</td>\n",
       "      <td>16.67</td>\n",
       "      <td>13.89</td>\n",
       "      <td>22.22</td>\n",
       "      <td>11.11</td>\n",
       "      <td>16.67</td>\n",
       "      <td>6.0</td>\n",
       "      <td>7.0</td>\n",
       "      <td>8.0</td>\n",
       "      <td>7.0</td>\n",
       "      <td>6.0</td>\n",
       "    </tr>\n",
       "    <tr>\n",
       "      <th>1</th>\n",
       "      <td>1</td>\n",
       "      <td>0</td>\n",
       "      <td>10</td>\n",
       "      <td>3</td>\n",
       "      <td>12.0</td>\n",
       "      <td>0</td>\n",
       "      <td>0.54</td>\n",
       "      <td>0</td>\n",
       "      <td>22.0</td>\n",
       "      <td>2.0</td>\n",
       "      <td>...</td>\n",
       "      <td>16.67</td>\n",
       "      <td>13.89</td>\n",
       "      <td>22.22</td>\n",
       "      <td>11.11</td>\n",
       "      <td>16.67</td>\n",
       "      <td>6.0</td>\n",
       "      <td>7.0</td>\n",
       "      <td>8.0</td>\n",
       "      <td>7.0</td>\n",
       "      <td>6.0</td>\n",
       "    </tr>\n",
       "    <tr>\n",
       "      <th>2</th>\n",
       "      <td>1</td>\n",
       "      <td>0</td>\n",
       "      <td>10</td>\n",
       "      <td>10</td>\n",
       "      <td>13.0</td>\n",
       "      <td>1</td>\n",
       "      <td>0.16</td>\n",
       "      <td>1</td>\n",
       "      <td>22.0</td>\n",
       "      <td>4.0</td>\n",
       "      <td>...</td>\n",
       "      <td>16.67</td>\n",
       "      <td>13.89</td>\n",
       "      <td>22.22</td>\n",
       "      <td>11.11</td>\n",
       "      <td>16.67</td>\n",
       "      <td>6.0</td>\n",
       "      <td>7.0</td>\n",
       "      <td>8.0</td>\n",
       "      <td>7.0</td>\n",
       "      <td>6.0</td>\n",
       "    </tr>\n",
       "    <tr>\n",
       "      <th>3</th>\n",
       "      <td>1</td>\n",
       "      <td>0</td>\n",
       "      <td>10</td>\n",
       "      <td>5</td>\n",
       "      <td>14.0</td>\n",
       "      <td>1</td>\n",
       "      <td>0.61</td>\n",
       "      <td>0</td>\n",
       "      <td>23.0</td>\n",
       "      <td>2.0</td>\n",
       "      <td>...</td>\n",
       "      <td>16.67</td>\n",
       "      <td>13.89</td>\n",
       "      <td>22.22</td>\n",
       "      <td>11.11</td>\n",
       "      <td>16.67</td>\n",
       "      <td>6.0</td>\n",
       "      <td>7.0</td>\n",
       "      <td>8.0</td>\n",
       "      <td>7.0</td>\n",
       "      <td>6.0</td>\n",
       "    </tr>\n",
       "    <tr>\n",
       "      <th>4</th>\n",
       "      <td>1</td>\n",
       "      <td>0</td>\n",
       "      <td>10</td>\n",
       "      <td>7</td>\n",
       "      <td>15.0</td>\n",
       "      <td>1</td>\n",
       "      <td>0.21</td>\n",
       "      <td>0</td>\n",
       "      <td>24.0</td>\n",
       "      <td>3.0</td>\n",
       "      <td>...</td>\n",
       "      <td>16.67</td>\n",
       "      <td>13.89</td>\n",
       "      <td>22.22</td>\n",
       "      <td>11.11</td>\n",
       "      <td>16.67</td>\n",
       "      <td>6.0</td>\n",
       "      <td>7.0</td>\n",
       "      <td>8.0</td>\n",
       "      <td>7.0</td>\n",
       "      <td>6.0</td>\n",
       "    </tr>\n",
       "  </tbody>\n",
       "</table>\n",
       "<p>5 rows × 96 columns</p>\n",
       "</div>"
      ],
      "text/plain": [
       "   iid  gender  round  order   pid  match  int_corr  samerace  age_o  race_o  \\\n",
       "0    1       0     10      4  11.0      0      0.14         0   27.0     2.0   \n",
       "1    1       0     10      3  12.0      0      0.54         0   22.0     2.0   \n",
       "2    1       0     10     10  13.0      1      0.16         1   22.0     4.0   \n",
       "3    1       0     10      5  14.0      1      0.61         0   23.0     2.0   \n",
       "4    1       0     10      7  15.0      1      0.21         0   24.0     3.0   \n",
       "\n",
       "   ...  sinc1_2  intel1_2  fun1_2  amb1_2  shar1_2  attr3_2  sinc3_2  \\\n",
       "0  ...    16.67     13.89   22.22   11.11    16.67      6.0      7.0   \n",
       "1  ...    16.67     13.89   22.22   11.11    16.67      6.0      7.0   \n",
       "2  ...    16.67     13.89   22.22   11.11    16.67      6.0      7.0   \n",
       "3  ...    16.67     13.89   22.22   11.11    16.67      6.0      7.0   \n",
       "4  ...    16.67     13.89   22.22   11.11    16.67      6.0      7.0   \n",
       "\n",
       "   intel3_2  fun3_2  amb3_2  \n",
       "0       8.0     7.0     6.0  \n",
       "1       8.0     7.0     6.0  \n",
       "2       8.0     7.0     6.0  \n",
       "3       8.0     7.0     6.0  \n",
       "4       8.0     7.0     6.0  \n",
       "\n",
       "[5 rows x 96 columns]"
      ]
     },
     "execution_count": 24,
     "metadata": {},
     "output_type": "execute_result"
    }
   ],
   "source": [
    "df.head(5)"
   ]
  },
  {
   "cell_type": "markdown",
   "id": "fbd1706f",
   "metadata": {},
   "source": [
    "# Differences Between Men and Women"
   ]
  },
  {
   "cell_type": "markdown",
   "id": "bd1620c0",
   "metadata": {},
   "source": [
    "## What do men look for in a partner vs. what women look for in a partner?"
   ]
  },
  {
   "cell_type": "code",
   "execution_count": 25,
   "id": "c2b36f98",
   "metadata": {},
   "outputs": [],
   "source": [
    "diff_att = pd.concat([df.iloc[:, 1], df.loc[:,'attr1_1':'shar1_1']], axis=1)"
   ]
  },
  {
   "cell_type": "code",
   "execution_count": 26,
   "id": "4e3f89e3",
   "metadata": {},
   "outputs": [
    {
     "data": {
      "text/plain": [
       "<AxesSubplot:title={'center':'Correlation of Gender and Attributes They Look For Heatmap'}>"
      ]
     },
     "execution_count": 26,
     "metadata": {},
     "output_type": "execute_result"
    },
    {
     "data": {
      "image/png": "[encoded data removed]",
      "text/plain": [
       "<Figure size 432x288 with 2 Axes>"
      ]
     },
     "metadata": {
      "needs_background": "light"
     },
     "output_type": "display_data"
    }
   ],
   "source": [
    "diff_att_heatmap = plt.axes()\n",
    "diff_att_heatmap.set_title(\"Correlation of Gender and Attributes They Look For Heatmap\")\n",
    "corr_diff_att = diff_att.corr()\n",
    "sns.heatmap(corr_diff_att, xticklabels=corr_diff_att.columns.values, yticklabels=corr_diff_att.columns.values)"
   ]
  },
  {
   "cell_type": "markdown",
   "id": "a902b445",
   "metadata": {},
   "source": [
    "Based on this correlation heatmap, it shows that men overall look for partners who are more attractive while women overall look for partners who are more ambitious."
   ]
  },
  {
   "cell_type": "code",
   "execution_count": 27,
   "id": "36ba49b9",
   "metadata": {},
   "outputs": [],
   "source": [
    "women = df[df['gender'] == 0]\n",
    "men = df[df['gender'] == 1]"
   ]
  },
  {
   "cell_type": "code",
   "execution_count": 28,
   "id": "bcbf4021",
   "metadata": {},
   "outputs": [
    {
     "data": {
      "text/plain": [
       "(-34.27786971461746, 5.975260304534076e-241, 8297.0)"
      ]
     },
     "execution_count": 28,
     "metadata": {},
     "output_type": "execute_result"
    }
   ],
   "source": [
    "sm.stats.ttest_ind(women['attr1_1'].dropna(), men['attr1_1'].dropna())"
   ]
  },
  {
   "cell_type": "markdown",
   "id": "42abfb97",
   "metadata": {},
   "source": [
    "I ran an independent t-test on a set of values containing how much just women look for attractiveness in partners and a set of values containing how much just men look for attractiveness in partners and got a t-value of -34.27786971461746 and a p-value of 5.975260304534076e-241. As the very large magnitude of this t-value indicates that these two groups are very different, the negative sign of this t-value indicates that the second group inputted (which I put as men) has a higher mean than the first, and this very low p-value (much lower than 5% or even 1%) indicates that it’s a very low probability that this t-value occurred by chance, we can reject the null hypothesis that there is no difference in the way women and men value attractiveness in a partner. In other words, it confirms the previous conclusion I drew, that men truly do look for partners who are more attractive."
   ]
  },
  {
   "cell_type": "code",
   "execution_count": 29,
   "id": "ec465d4c",
   "metadata": {},
   "outputs": [
    {
     "data": {
      "text/plain": [
       "(33.87678564830779, 1.0543001624436398e-235, 8277.0)"
      ]
     },
     "execution_count": 29,
     "metadata": {},
     "output_type": "execute_result"
    }
   ],
   "source": [
    "sm.stats.ttest_ind(women['amb1_1'].dropna(), men['amb1_1'].dropna())"
   ]
  },
  {
   "cell_type": "markdown",
   "id": "1a2a8b3a",
   "metadata": {},
   "source": [
    "I ran an independent t-test on a set of values containing how much just women look for ambition in partners and a set of values containing how much just men look for ambition in partners and got a t-value of 33.87678564830779 and a p-value of 1.0543001624436398e-235. As the very large magnitude of this t-value indicates that these two groups are very different, the positive sign of this t-value indicates that the first group inputted (which I put as women) has a higher mean than the first, and this very low p-value (much lower than 5% or even 1%) indicates that it’s a very low probability that this t-value occurred by chance, we can reject the null hypothesis that there is no difference in the way women and men value ambition in a partner. In other words, it confirms the previous conclusion I drew, that women truly do look for partners who are more ambitious."
   ]
  },
  {
   "cell_type": "markdown",
   "id": "8216235e",
   "metadata": {},
   "source": [
    "## What do men THINK women look for in a partner vs. what women THINK men look for in a partner?"
   ]
  },
  {
   "cell_type": "code",
   "execution_count": 30,
   "id": "1c5ee8c8",
   "metadata": {},
   "outputs": [],
   "source": [
    "diff_att_opp = pd.concat([df.iloc[:, 1], df.loc[:,'attr2_1':'shar2_1']], axis=1)"
   ]
  },
  {
   "cell_type": "code",
   "execution_count": 31,
   "id": "6fc856fb",
   "metadata": {},
   "outputs": [
    {
     "data": {
      "text/plain": [
       "<AxesSubplot:title={'center':'Correlation of Gender and Attributes They Think The Opposite Sex Looks For Heatmap'}>"
      ]
     },
     "execution_count": 31,
     "metadata": {},
     "output_type": "execute_result"
    },
    {
     "data": {
      "image/png": "[encoded data removed]",
      "text/plain": [
       "<Figure size 432x288 with 2 Axes>"
      ]
     },
     "metadata": {
      "needs_background": "light"
     },
     "output_type": "display_data"
    }
   ],
   "source": [
    "diff_att_opp_heatmap = plt.axes()\n",
    "diff_att_opp_heatmap.set_title(\"Correlation of Gender and Attributes They Think The Opposite Sex Looks For Heatmap\")\n",
    "corr_diff_att_opp = diff_att_opp.corr()\n",
    "sns.heatmap(corr_diff_att_opp, xticklabels=corr_diff_att_opp.columns.values, \n",
    "            yticklabels=corr_diff_att_opp.columns.values)"
   ]
  },
  {
   "cell_type": "markdown",
   "id": "1bbc8de6",
   "metadata": {},
   "source": [
    "Based on this correlation heatmap, it shows that men overall think that women look for partners who are ambitious while women overall think that men look for partners who are attractive. This shows that participants overall have a good indiciation of what the opposite gender looks for as this matches what, based on this dataset, participants actually look for in a partner."
   ]
  },
  {
   "cell_type": "code",
   "execution_count": 32,
   "id": "803ba1b3",
   "metadata": {},
   "outputs": [],
   "source": [
    "diff_att_self = pd.concat([df.iloc[:, 1], df.loc[:,'attr3_1':'amb3_1']], axis=1)"
   ]
  },
  {
   "cell_type": "code",
   "execution_count": 33,
   "id": "e59cfa99",
   "metadata": {},
   "outputs": [
    {
     "data": {
      "text/plain": [
       "<AxesSubplot:title={'center':'Correlation of Gender and Self Attributes Heatmap'}>"
      ]
     },
     "execution_count": 33,
     "metadata": {},
     "output_type": "execute_result"
    },
    {
     "data": {
      "image/png": "[encoded data removed]",
      "text/plain": [
       "<Figure size 432x288 with 2 Axes>"
      ]
     },
     "metadata": {
      "needs_background": "light"
     },
     "output_type": "display_data"
    }
   ],
   "source": [
    "diff_att_self_heatmap = plt.axes()\n",
    "diff_att_self_heatmap.set_title(\"Correlation of Gender and Self Attributes Heatmap\")\n",
    "corr_diff_att_self = diff_att_self.corr()\n",
    "sns.heatmap(corr_diff_att_self, xticklabels=corr_diff_att_self.columns.values, \n",
    "            yticklabels=corr_diff_att_self.columns.values)"
   ]
  },
  {
   "cell_type": "markdown",
   "id": "eb8d52b9",
   "metadata": {},
   "source": [
    "Based on this correlation heatmap, there is generally no difference in how men and women perceive themselves in accordance to these attributes."
   ]
  },
  {
   "cell_type": "markdown",
   "id": "43f71b0a",
   "metadata": {},
   "source": [
    "## What activities do men like vs. what women like?"
   ]
  },
  {
   "cell_type": "code",
   "execution_count": 34,
   "id": "dd9aa37e",
   "metadata": {},
   "outputs": [],
   "source": [
    "diff_act = pd.concat([df.iloc[:, 1], df.loc[:,'sports':'yoga']], axis=1)"
   ]
  },
  {
   "cell_type": "code",
   "execution_count": 35,
   "id": "399c73a5",
   "metadata": {},
   "outputs": [
    {
     "data": {
      "text/plain": [
       "<AxesSubplot:title={'center':'Correlation of Gender and Activites Heatmap'}>"
      ]
     },
     "execution_count": 35,
     "metadata": {},
     "output_type": "execute_result"
    },
    {
     "data": {
      "image/png": "[encoded data removed]",
      "text/plain": [
       "<Figure size 720x576 with 2 Axes>"
      ]
     },
     "metadata": {
      "needs_background": "light"
     },
     "output_type": "display_data"
    }
   ],
   "source": [
    "plt.figure(figsize=(10, 8))\n",
    "diff_act_heatmap = plt.axes()\n",
    "diff_act_heatmap.set_title(\"Correlation of Gender and Activites Heatmap\")\n",
    "corr_diff_act = diff_act.corr()\n",
    "sns.heatmap(corr_diff_act, xticklabels=corr_diff_act.columns.values, yticklabels=corr_diff_act.columns.values)"
   ]
  },
  {
   "cell_type": "markdown",
   "id": "47816ea5",
   "metadata": {},
   "source": [
    "Based on this correlation heatmap, it shows that men overall enjoy sports and gaming while women overall enjoy theater and shopping."
   ]
  },
  {
   "cell_type": "markdown",
   "id": "36df400d",
   "metadata": {},
   "source": [
    "## How often do men go out on dates vs. women?"
   ]
  },
  {
   "cell_type": "code",
   "execution_count": 36,
   "id": "02b2f758",
   "metadata": {},
   "outputs": [
    {
     "data": {
      "image/png": "[encoded data removed]",
      "text/plain": [
       "<Figure size 864x576 with 1 Axes>"
      ]
     },
     "metadata": {
      "needs_background": "light"
     },
     "output_type": "display_data"
    }
   ],
   "source": [
    "labels = [\"Several times a week\", \"Twice a week\", \"Once a week\", \"Twice a month\", \"Once a month\", \n",
    "          \"Several times a year\", \"Almost Never\"]\n",
    "\n",
    "women = df[df['gender'] == 0]\n",
    "men = df[df['gender'] == 1]\n",
    "\n",
    "women_dates = women['date'].value_counts()\n",
    "men_dates = men['date'].value_counts()\n",
    "\n",
    "women_dates = [women_dates[1], women_dates[2], women_dates[3], women_dates[4], women_dates[5], women_dates[6], \n",
    "               women_dates[7]]\n",
    "men_dates = [men_dates[1], men_dates[2], men_dates[3], men_dates[4], men_dates[5], men_dates[6], men_dates[7]]\n",
    "  \n",
    "axis = np.arange(len(labels))\n",
    "\n",
    "plt.figure(figsize=(12, 8))\n",
    "  \n",
    "plt.bar(axis - 0.2, women_dates, 0.4, label = 'Women')\n",
    "plt.bar(axis + 0.2, men_dates, 0.4, label = 'Men')\n",
    "  \n",
    "plt.xticks(axis, labels)\n",
    "plt.xlabel(\"Dating Frequencies\")\n",
    "plt.ylabel(\"Number of People\")\n",
    "plt.title(\"Dating Frequencies of Men vs. Women\")\n",
    "plt.legend()\n",
    "plt.show()"
   ]
  },
  {
   "cell_type": "markdown",
   "id": "534f7ee7",
   "metadata": {},
   "source": [
    "This double bar graph shows that overall, men date more frequently than women."
   ]
  },
  {
   "cell_type": "code",
   "execution_count": 37,
   "id": "ee58fdd8",
   "metadata": {},
   "outputs": [
    {
     "data": {
      "text/plain": [
       "(9.237997174364601, 3.1406236343876524e-20, 8279.0)"
      ]
     },
     "execution_count": 37,
     "metadata": {},
     "output_type": "execute_result"
    }
   ],
   "source": [
    "sm.stats.ttest_ind(women['date'].dropna(), men['date'].dropna())"
   ]
  },
  {
   "cell_type": "markdown",
   "id": "bc05c180",
   "metadata": {},
   "source": [
    "I ran an independent t-test on a set of values containing how often women go on dates and a set of values containing how often men go on dates and got a t-value of 9.237997174364601 and a p-value of 3.1406236343876524e-20. As the relatively large magnitude of this t-value indicates that these two groups are very different, the positive sign of this t-value indicates that the first group inputted (which I put as women) has a higher mean than the first, and this very low p-value (much lower than 5% or even 1%) indicates that it’s a very low probability that this t-value occurred by chance, we can reject the null hypothesis that there is no difference in the frequency women and men go on dates. In other words, it confirms the previous conclusion I drew, that men go on more dates than women"
   ]
  },
  {
   "cell_type": "markdown",
   "id": "008c5893",
   "metadata": {},
   "source": [
    "# The Experiment"
   ]
  },
  {
   "cell_type": "markdown",
   "id": "286f6030",
   "metadata": {},
   "source": [
    "## Race"
   ]
  },
  {
   "cell_type": "markdown",
   "id": "a7da5298",
   "metadata": {},
   "source": [
    "### How many participants find at least some importance in being the same race as the person they're dating?"
   ]
  },
  {
   "cell_type": "code",
   "execution_count": 38,
   "id": "577b079b",
   "metadata": {},
   "outputs": [
    {
     "name": "stdout",
     "output_type": "stream",
     "text": [
      "27.76769509981851% of participants find at least some importance in being the same race as the person they're dating\n"
     ]
    }
   ],
   "source": [
    "same_race_importance = len(unique_participants[unique_participants['imprace'] > 5])/551\n",
    "print(str(same_race_importance*100) + \"% of participants find at least some importance in being the same race as the person they're dating\")"
   ]
  },
  {
   "cell_type": "markdown",
   "id": "f9b30801",
   "metadata": {},
   "source": [
    "I defined participants finding at least some importance in being the same race as the person they're dating as them answering the question \"How important is it to you (on a scale of 1-10) that a person you date be of the same racial/ethnic background?\" on the form with a 6 or higher. Through this definition, I found that 27.76769509981851% of participants find at least some importance in being the same race as the person they're dating."
   ]
  },
  {
   "cell_type": "markdown",
   "id": "6c6b552f",
   "metadata": {},
   "source": [
    "### Does being of the same race increase your likelihood of matching?"
   ]
  },
  {
   "cell_type": "code",
   "execution_count": 39,
   "id": "5f8d5625",
   "metadata": {},
   "outputs": [
    {
     "name": "stdout",
     "output_type": "stream",
     "text": [
      "Likelihood of matching if partners are of different race: 16.08060055314105%\n",
      "Likelihood of matching if partners are of the same race: 17.06875753920386%\n"
     ]
    }
   ],
   "source": [
    "diff_race = df[df['samerace'] == 0]\n",
    "same_race = df[df['samerace'] == 1]\n",
    "diff_race_avg = diff_race['match'].mean()\n",
    "print(\"Likelihood of matching if partners are of different race: \" + str(diff_race_avg*100) + \"%\")\n",
    "same_race_avg = same_race['match'].mean()\n",
    "print(\"Likelihood of matching if partners are of the same race: \" + str(same_race_avg*100) + \"%\")"
   ]
  },
  {
   "cell_type": "code",
   "execution_count": 40,
   "id": "ecbdc1b4",
   "metadata": {},
   "outputs": [
    {
     "data": {
      "text/plain": [
       "(-1.1924027153572123, 0.23313715534147136, 8376.0)"
      ]
     },
     "execution_count": 40,
     "metadata": {},
     "output_type": "execute_result"
    }
   ],
   "source": [
    "sm.stats.ttest_ind(diff_race['match'].dropna(), same_race['match'].dropna())"
   ]
  },
  {
   "cell_type": "markdown",
   "id": "ac872827",
   "metadata": {},
   "source": [
    "I first found that the likelihood of partners matching if they're of different or the same race to not be too different from each other (with the former being just above 16% and the latter being just above 17%). This indicates that whether or not partners are of the same race does not affect whether or not they match. To further confirm this conclusion, I ran an independent t-test on the match values for dates that were of different races and on the match values for dates that were of the same race and got an absolute t-value of 1.1924027153572123 and a p-value of 0.23313715534147136. As this small t-value indicates that the two groups are generally similar and this p-value that is greater than 5% indicates that it's probable that this t-value occured by chance, we cannot reject the null hypothesis that partners of the same race aren't more likely to match than partners of different races. In other words, whether or partners dates are of the same race doesn't affect whether or not they match."
   ]
  },
  {
   "cell_type": "markdown",
   "id": "a32d588b",
   "metadata": {},
   "source": [
    "While more than a quarter of the participants at least slightly care about them being the same race as the person they're dating, I found that partners of the same race are not any more likely to match than partners of different races."
   ]
  },
  {
   "cell_type": "markdown",
   "id": "9b019685",
   "metadata": {},
   "source": [
    "## Age"
   ]
  },
  {
   "cell_type": "markdown",
   "id": "46d068da",
   "metadata": {},
   "source": [
    "### Does age affect a participants' match rate?"
   ]
  },
  {
   "cell_type": "code",
   "execution_count": 41,
   "id": "7c11f860",
   "metadata": {},
   "outputs": [],
   "source": [
    "age_nonull = df[df['age'].notna()]"
   ]
  },
  {
   "cell_type": "code",
   "execution_count": 42,
   "id": "004cefb7",
   "metadata": {},
   "outputs": [],
   "source": [
    "match_success_1 = {1:[0, age_nonull['round'][0], age_nonull['age'][0]]}\n",
    "\n",
    "for i in age_nonull.index:\n",
    "    iid = age_nonull['iid'][i]\n",
    "    if iid not in match_success_1:\n",
    "        match_success_1[iid] = [0, age_nonull['round'][i], age_nonull['age'][i]]\n",
    "    if age_nonull['match'][i] == 1:\n",
    "        match_success_1[iid][0] += 1"
   ]
  },
  {
   "cell_type": "code",
   "execution_count": 43,
   "id": "81935b81",
   "metadata": {},
   "outputs": [],
   "source": [
    "match_success_pct_1 = []\n",
    "age = []\n",
    "for iid in match_success_1:\n",
    "    match_success_pct_1.append(match_success_1[iid][0]/match_success_1[iid][1])\n",
    "    age.append(match_success_1[iid][2])"
   ]
  },
  {
   "cell_type": "code",
   "execution_count": 44,
   "id": "512fe5f5",
   "metadata": {},
   "outputs": [
    {
     "data": {
      "text/plain": [
       "<AxesSubplot:title={'center':'Age vs Match Success'}, xlabel='Age', ylabel='Match Success'>"
      ]
     },
     "execution_count": 44,
     "metadata": {},
     "output_type": "execute_result"
    },
    {
     "data": {
      "image/png": "[encoded data removed]",
      "text/plain": [
       "<Figure size 432x288 with 1 Axes>"
      ]
     },
     "metadata": {
      "needs_background": "light"
     },
     "output_type": "display_data"
    }
   ],
   "source": [
    "age_match_success = pd.DataFrame({'age': age, 'match_success': match_success_pct_1})\n",
    "age_match_success_counts = age_match_success['age'].value_counts()\n",
    "age_match_success = age_match_success[age_match_success['age'].isin(age_match_success_counts.index[age_match_success_counts.gt(2)])]\n",
    "age_match_success.groupby(['age'])['match_success'].mean().plot.line(title = \"Age vs Match Success\", xlabel = \"Age\", \n",
    "                                                                     ylabel = \"Match Success\")"
   ]
  },
  {
   "cell_type": "markdown",
   "id": "7fa8e924",
   "metadata": {},
   "source": [
    "Generally younger participants (20 and 21 year olds) had higher match rate than older participants (with the exception of 25 year old participants also having a generally higher match rate than other participants). This may be due to both younger people likely having less dating experience (and in that potentially being less selective on who they ask on a second date) and participants overall liking those who are younger (possibly because they look and act more youthful)."
   ]
  },
  {
   "cell_type": "markdown",
   "id": "4463fa21",
   "metadata": {},
   "source": [
    "## Expectations and Predictions"
   ]
  },
  {
   "cell_type": "markdown",
   "id": "b303da0c",
   "metadata": {},
   "source": [
    "### Does coming in with positive expectations affect participants' ability to get a match?"
   ]
  },
  {
   "cell_type": "code",
   "execution_count": 45,
   "id": "a12ad7f3",
   "metadata": {},
   "outputs": [],
   "source": [
    "def lin_reg(x, y):\n",
    "    '''\n",
    "    ordinary linear regression using least-squares\n",
    "    \n",
    "    Parameters\n",
    "    ----------  \n",
    "    x: regressors (numpy array)\n",
    "    y: dependent variable (numpy array)\n",
    "    \n",
    "    Returns\n",
    "    -------\n",
    "    coefficients: regression coefficients (pandas Series)\n",
    "    residuals: regression residuals (numpy array)\n",
    "    r_squared: correlation coefficient (float)\n",
    "    \n",
    "    '''\n",
    "    x = sm.add_constant(x)\n",
    "    model = sm.OLS(y, x).fit()\n",
    "    coefficients = model.params\n",
    "    residuals = model.resid\n",
    "    r_squared = model.rsquared\n",
    "    return coefficients, residuals, r_squared"
   ]
  },
  {
   "cell_type": "code",
   "execution_count": 46,
   "id": "6cae0e38",
   "metadata": {},
   "outputs": [],
   "source": [
    "exphappy_nonull = df[df['exphappy'].notna()]"
   ]
  },
  {
   "cell_type": "code",
   "execution_count": 47,
   "id": "3893fd4e",
   "metadata": {},
   "outputs": [],
   "source": [
    "match_success_2 = {1:[0, exphappy_nonull['round'][0], exphappy_nonull['exphappy'][0]]}\n",
    "\n",
    "for i in exphappy_nonull.index:\n",
    "    iid = exphappy_nonull['iid'][i]\n",
    "    if iid not in match_success_2:\n",
    "        match_success_2[iid] = [0, exphappy_nonull['round'][i], exphappy_nonull['exphappy'][i]]\n",
    "    if exphappy_nonull['match'][i] == 1:\n",
    "        match_success_2[iid][0] += 1"
   ]
  },
  {
   "cell_type": "code",
   "execution_count": 48,
   "id": "d5911f85",
   "metadata": {},
   "outputs": [],
   "source": [
    "match_success_pct_2 = np.empty([551])\n",
    "exphappy = np.empty((551))\n",
    "i = 0\n",
    "for iid in match_success_2:\n",
    "    match_success_pct_2[i] = match_success_2[iid][0]/match_success_2[iid][1]\n",
    "    exphappy[i] = match_success_2[iid][2]\n",
    "    i += 1"
   ]
  },
  {
   "cell_type": "code",
   "execution_count": 49,
   "id": "c3c2d740",
   "metadata": {},
   "outputs": [
    {
     "name": "stdout",
     "output_type": "stream",
     "text": [
      "exphappy: 1.7192935196091615e-264\n"
     ]
    }
   ],
   "source": [
    "print(\"exphappy: \" + str(lin_reg(exphappy, match_success_pct_2)[0][1]))"
   ]
  },
  {
   "cell_type": "markdown",
   "id": "dff3eef3",
   "metadata": {},
   "source": [
    "Coming in with positive expectations (which I defined as a participant expecting to be happier with the people they meet during the event) slightly improves a participant's ability to get a match. This may be because people who come in with more positive expectations are both more likely to ask for more second dates, but also exude a positive energy which could potentially make them more likely to be asked on more second dates."
   ]
  },
  {
   "cell_type": "markdown",
   "id": "f4bdc1e3",
   "metadata": {},
   "source": [
    "### Can participants accurately predict their own perceived value in the dating market?"
   ]
  },
  {
   "cell_type": "code",
   "execution_count": 50,
   "id": "df389ce5",
   "metadata": {},
   "outputs": [
    {
     "name": "stdout",
     "output_type": "stream",
     "text": [
      "60.798548094373864% of participants can generally predict how many matches they're going to get.\n"
     ]
    }
   ],
   "source": [
    "accurate_predictions = 0\n",
    "for iid in match_success:\n",
    "    p = match_success[iid]\n",
    "    if p[1] <= 10:\n",
    "        if p[0]-1 <= p[2] <= p[0]+1:\n",
    "            accurate_predictions += 1\n",
    "    else:\n",
    "        if p[0]-2 <= p[2] <= p[0]+2:\n",
    "            accurate_predictions += 1\n",
    "print(str(accurate_predictions/participants*100) \n",
    "      + \"% of participants can generally predict how many matches they're going to get.\")"
   ]
  },
  {
   "cell_type": "markdown",
   "id": "70e4c220",
   "metadata": {},
   "source": [
    "I defined a participant being able to accurately predict their own perceived value in the dating market as if they can generally predict how many matches they're going to get. If a participant went on 10 or less dates, I defined an \"accurate prediction\" as the number of matches they expect being either equal to, one less, or one more than the number of matches they actually got. If a participant went on more than 10 dates, I defined \"accurate prediction\" as the number of matches they expect being equal to, within two less, or within two more than the number of matches they actually got. Based on this, a little under 61% of participants can accurately predict their own perceived value in the dating market?"
   ]
  },
  {
   "cell_type": "markdown",
   "id": "c0f974b0",
   "metadata": {},
   "source": [
    "## Attributes and Likeability"
   ]
  },
  {
   "cell_type": "markdown",
   "id": "01c93234",
   "metadata": {},
   "source": [
    "### Which attributes are best predictors for getting someone to decide to want to go on a second date with you?"
   ]
  },
  {
   "cell_type": "code",
   "execution_count": 51,
   "id": "ac3b04f3",
   "metadata": {},
   "outputs": [],
   "source": [
    "atts_dec = df[['attr', 'sinc', 'intel', 'fun', 'amb', 'shar', 'dec']].dropna().sample(frac=1)\n",
    "train1 = atts_dec.iloc[:5280]\n",
    "test1 = atts_dec.iloc[5280:]"
   ]
  },
  {
   "cell_type": "code",
   "execution_count": 52,
   "id": "5f751d5f",
   "metadata": {},
   "outputs": [
    {
     "name": "stdout",
     "output_type": "stream",
     "text": [
      "Betas\n",
      "Attractiveness: 0.08831188596377126\n",
      "Sincerity: -0.01695626656192483\n",
      "Intelligence: 0.006953167735709353\n",
      "Fun: 0.03552635752588604\n",
      "Ambition: -0.025159185049317755\n",
      "Shared Interests: 0.04641571402870548\n"
     ]
    }
   ],
   "source": [
    "atts_train = np.array([train1['attr'], train1['sinc'], train1['intel'], train1['fun'], train1['amb'], \n",
    "                       train1['shar']]).T\n",
    "dec_train = train1['dec']\n",
    "lin_reg_train_1 = lin_reg(atts_train, dec_train)\n",
    "betas1 = lin_reg_train_1[0]\n",
    "print(\"Betas\")\n",
    "print(\"Attractiveness: \" + str(betas1[1]))\n",
    "print(\"Sincerity: \" + str(betas1[2]))\n",
    "print(\"Intelligence: \" + str(betas1[3]))\n",
    "print(\"Fun: \" + str(betas1[4]))\n",
    "print(\"Ambition: \" + str(betas1[5]))\n",
    "print(\"Shared Interests: \" + str(betas1[6]))"
   ]
  },
  {
   "cell_type": "code",
   "execution_count": 53,
   "id": "c880e5b6",
   "metadata": {},
   "outputs": [
    {
     "name": "stdout",
     "output_type": "stream",
     "text": [
      "R^2: 0.2868228115461262\n"
     ]
    }
   ],
   "source": [
    "print(\"R^2: \" + str(lin_reg_train_1[2]))"
   ]
  },
  {
   "cell_type": "code",
   "execution_count": 54,
   "id": "cf566470",
   "metadata": {},
   "outputs": [],
   "source": [
    "atts_test = np.array([test1['attr'], test1['sinc'], test1['intel'], test1['fun'], test1['amb'], test1['shar']]).T\n",
    "dec_test_1 = test1['dec']"
   ]
  },
  {
   "cell_type": "code",
   "execution_count": 55,
   "id": "1d765ff2",
   "metadata": {},
   "outputs": [
    {
     "name": "stdout",
     "output_type": "stream",
     "text": [
      "RMSE: 0.41928791667101933\n"
     ]
    }
   ],
   "source": [
    "yHat1 = betas1[0] + betas1[1]*atts_train[:,0] + betas1[2]*atts_train[:,1] + betas1[3]*atts_train[:,2] + betas1[4]*atts_train[:,3] + betas1[5]*atts_train[:,4] + betas1[6]*atts_train[:,5]\n",
    "yHat2 = betas1[0] + betas1[1]*atts_test[:,0] + betas1[2]*atts_test[:,1] + betas1[3]*atts_test[:,2] + betas1[4]*atts_test[:,3] + betas1[5]*atts_test[:,4] + betas1[6]*atts_test[:,5]\n",
    "rmse = np.sqrt(np.mean((yHat2 - dec_test_1)**2))\n",
    "print(\"RMSE: \" + str(rmse))"
   ]
  },
  {
   "cell_type": "markdown",
   "id": "84899ee3",
   "metadata": {},
   "source": [
    "The first way I thought about answering this question is through seeing how each participant rates each partner on the six attributes (attractiveness, sincerity, intelligence, fun, ambition, and shared interests) affects whether or not they want to go on a second date with them. I created a training set with the first 75% of the data, training a linear regression model with the six attributes as predictors for the decision. From this model, I got the betas listed above. These betas show that whether or not a participant is attracted to their partner is the best predictor on whether or not they'll ask for a second date or not. Other attributes that have a slight positive impact on whether or not a participant asks for a second date are if there are shared interests, they find their date fun, and if they find their date to be intelligent. Attributes that negatively affect if a participant wants to go on a second date are if they find their date ambitious and sincere.\n",
    "\n",
    "In regards to accuracy, I calculated an R^2 value of 0.28 which means that the model represents a relatively weak to moderate proportion of the variance. I cross-validated my model as well with a test set that I created from 25% of the data, calculating the RMSE to be 0.42. This means that the model is relatively okay at predicting the data."
   ]
  },
  {
   "cell_type": "code",
   "execution_count": 56,
   "id": "af98b9eb",
   "metadata": {},
   "outputs": [],
   "source": [
    "atts_o_dec = df[['iid', 'attr_o', 'sinc_o', 'intel_o', 'fun_o', 'amb_o', 'shar_o', 'dec_o']].dropna()\n",
    "\n",
    "dec_success = {1:[0, 0, 0, 0, 0, 0, 0, 0]}\n",
    "\n",
    "for i in atts_o_dec.index:\n",
    "    iid = atts_o_dec['iid'][i]\n",
    "    if iid not in dec_success:\n",
    "        dec_success[iid] = [0, 0, 0, 0, 0, 0, 0, 0]\n",
    "    dec_success[iid][0] += atts_o_dec['attr_o'][i]\n",
    "    dec_success[iid][1] += atts_o_dec['sinc_o'][i]\n",
    "    dec_success[iid][2] += atts_o_dec['intel_o'][i]\n",
    "    dec_success[iid][3] += atts_o_dec['fun_o'][i]\n",
    "    dec_success[iid][4] += atts_o_dec['amb_o'][i]\n",
    "    dec_success[iid][5] += atts_o_dec['shar_o'][i]\n",
    "    dec_success[iid][7] += 1\n",
    "    if atts_o_dec['dec_o'][i] == 1:\n",
    "        dec_success[iid][6] += 1"
   ]
  },
  {
   "cell_type": "code",
   "execution_count": 57,
   "id": "3bde0dce",
   "metadata": {},
   "outputs": [],
   "source": [
    "for iid in dec_success:\n",
    "    dec_success[iid] = [x/dec_success[iid][7] for x in dec_success[iid]]\n",
    "    dec_success[iid].pop()"
   ]
  },
  {
   "cell_type": "code",
   "execution_count": 58,
   "id": "44d95693",
   "metadata": {},
   "outputs": [
    {
     "name": "stdout",
     "output_type": "stream",
     "text": [
      "Betas\n",
      "Attractiveness: 0.14499733745122023\n",
      "Sincerity: -0.031154979855826277\n",
      "Intelligence: 0.03914212946923007\n",
      "Fun: 0.048509951349774254\n",
      "Ambition: -0.032345820350075064\n",
      "Shared Interests: 0.012208959345154249\n"
     ]
    }
   ],
   "source": [
    "atts_dec_pct = np.array(list(dec_success.values()))\n",
    "train2 = atts_dec_pct[:413].T\n",
    "atts_o_train = train2[:6].T\n",
    "dec_train_2 = train2[6:].T\n",
    "lin_reg_train_2 = lin_reg(atts_o_train, dec_train_2)\n",
    "betas2 = lin_reg_train_2[0]\n",
    "print(\"Betas\")\n",
    "print(\"Attractiveness: \" + str(betas2[1]))\n",
    "print(\"Sincerity: \" + str(betas2[2]))\n",
    "print(\"Intelligence: \" + str(betas2[3]))\n",
    "print(\"Fun: \" + str(betas2[4]))\n",
    "print(\"Ambition: \" + str(betas2[5]))\n",
    "print(\"Shared Interests: \" + str(betas2[6]))"
   ]
  },
  {
   "cell_type": "code",
   "execution_count": 59,
   "id": "8bde0904",
   "metadata": {},
   "outputs": [
    {
     "name": "stdout",
     "output_type": "stream",
     "text": [
      "R^2: 0.6557096999081848\n"
     ]
    }
   ],
   "source": [
    "print(\"R^2: \" + str(lin_reg_train_2[2]))"
   ]
  },
  {
   "cell_type": "code",
   "execution_count": 60,
   "id": "80c60db3",
   "metadata": {},
   "outputs": [],
   "source": [
    "test2 = atts_dec_pct[413:].T\n",
    "atts_o_test = train2[:6].T\n",
    "dec_test_2 = train2[6:].T"
   ]
  },
  {
   "cell_type": "code",
   "execution_count": 61,
   "id": "4a7819fc",
   "metadata": {},
   "outputs": [
    {
     "name": "stdout",
     "output_type": "stream",
     "text": [
      "RMSE: 0.32314015483092196\n"
     ]
    }
   ],
   "source": [
    "yHat1 = betas2[0] + betas2[1]*atts_o_train[:,0] + betas2[2]*atts_o_train[:,1] + betas2[3]*atts_o_train[:,2] + betas2[4]*atts_o_train[:,3] + betas2[5]*atts_o_train[:,4] + betas2[6]*atts_o_train[:,5]\n",
    "yHat2 = betas2[0] + betas2[1]*atts_o_test[:,0] + betas2[2]*atts_o_test[:,1] + betas2[3]*atts_o_test[:,2] + betas2[4]*atts_o_test[:,3] + betas2[5]*atts_o_test[:,4] + betas2[6]*atts_o_test[:,5]\n",
    "rmse = np.sqrt(np.mean((yHat2 - dec_test_2)**2))\n",
    "print(\"RMSE: \" + str(rmse))"
   ]
  },
  {
   "cell_type": "markdown",
   "id": "ebb933a5",
   "metadata": {},
   "source": [
    "Another way I thought about answering this question is through calculating how each participant measured up on average in regards to the six attributes (based on how each of their partners rated them) and seeing how those rating averages affect their date success rate (which I defined as the number of dates that ask for a second date with them divided by the total number of dates they went on). I created a training set with the first 75% of the data, training a linear regression model with the calculated average ratings of the six attributes as predictors for the decision of their partner. From this model, I got the betas listed above. These betas show that the attribute that has the most impact on participants' date success rates is their attractiveness (as in, the more attractive a participant is, the more likely they are to be asked on a second date). Other attributes that lead to participants' having a higher date success rate are if they are fun, intelligent, and have shared interests with their date. Attributes that lead to participants' having a lower date sucecss rate are if they are ambitious and sincere.\n",
    "\n",
    "In regards to accuracy, I calculated an R^2 value of 0.0.6557096999081848 which means that the model represents a relatively moderate to substantial proportion of the variance. I cross-validated my model as well with a test set that I created from 25% of the data, calculating the RMSE to be 0.323140154830922. This means that the model is relatively okay at predicting the data."
   ]
  },
  {
   "cell_type": "markdown",
   "id": "649545fa",
   "metadata": {},
   "source": [
    "This experiment showed that the while being fun, intelligent, and having shared interests with a partner helps a person land a second date, the most important attribute is ultimately attractiveness. This is especially true in that based on the correlation matrix of gender and attributes looked for in a partner I showed earlier, it was shown that men really do look for attractiveness in a partner above all else.\n",
    "\n",
    "While this may be, however, as these dates are short (only 4 minutes each), it's quite difficult to judge a person on their personality in such a little amount of time. As a person's appearance is external and more easily to quickly judge, this may contribute to why attractiveness was found to be the most important attribute in landing a second date (rather than participants' really valuing it as an attribute above all else overall)."
   ]
  },
  {
   "cell_type": "markdown",
   "id": "8c481152",
   "metadata": {},
   "source": [
    "### How much does a participant need to like their partner to want to go on a second date with them?"
   ]
  },
  {
   "cell_type": "code",
   "execution_count": 62,
   "id": "a4c6e320",
   "metadata": {},
   "outputs": [],
   "source": [
    "like_dec_df = pd.concat([df['like'], df['dec']], axis=1).dropna().sample(frac=1)\n",
    "like_dec_df_train = like_dec_df[:6104]\n",
    "like_dec_df_test = like_dec_df[6104:]\n",
    "like_dec_train = np.array([like_dec_df_train['like'], like_dec_df_train['dec']]).T\n",
    "x_train = like_dec_train[:,0].reshape(len(like_dec_train),1) \n",
    "y_train = like_dec_train[:,1]\n",
    "like_dec_test = np.array([like_dec_df_test['like'], like_dec_df_test['dec']]).T\n",
    "x_test = like_dec_test[:,0].reshape(len(like_dec_test),1) \n",
    "y_test = like_dec_test[:,1]\n",
    "model = LogisticRegression().fit(x_train,y_train)\n",
    "predict_train_model = model.predict(x_train)\n",
    "predict_test_model = model.predict(x_test)"
   ]
  },
  {
   "cell_type": "code",
   "execution_count": 63,
   "id": "431a25ca",
   "metadata": {},
   "outputs": [
    {
     "data": {
      "image/png": "[encoded data removed]",
      "text/plain": [
       "<Figure size 432x288 with 1 Axes>"
      ]
     },
     "metadata": {
      "needs_background": "light"
     },
     "output_type": "display_data"
    }
   ],
   "source": [
    "x1 = np.linspace(0,10,500)\n",
    "y1 = x1 * model.coef_ + model.intercept_\n",
    "sigmoid = expit(y1)\n",
    "plt.plot(x1,sigmoid.ravel(),color='red',linewidth=3) # the ravel function returns a flattened array\n",
    "plt.scatter(like_dec_train[:,0],like_dec_train[:,1],color='black')\n",
    "plt.hlines(0.5,0,10,colors='gray',linestyles='dotted')\n",
    "plt.xlabel('Likeness Score')\n",
    "plt.xlim([0,10])\n",
    "plt.ylabel('Decision')\n",
    "plt.yticks(np.array([0,1]))\n",
    "plt.show()"
   ]
  },
  {
   "cell_type": "code",
   "execution_count": 64,
   "id": "915765d0",
   "metadata": {},
   "outputs": [
    {
     "name": "stdout",
     "output_type": "stream",
     "text": [
      "Probability Of Wanting To Go On A Second Date Based On Different Likeness Scores\n",
      "0: 0.004\n",
      "1: 0.009\n",
      "2: 0.02\n",
      "3: 0.044\n",
      "4: 0.097\n",
      "5: 0.196\n",
      "6: 0.36\n",
      "7: 0.565\n",
      "8: 0.75\n",
      "9: 0.874\n",
      "10: 0.941\n"
     ]
    }
   ],
   "source": [
    "print(\"Probability Of Wanting To Go On A Second Date Based On Different Likeness Scores\")\n",
    "for i in range(11):\n",
    "    probDecision = sigmoid[0,np.abs(x1-i).argmin()]\n",
    "    print(str(i) + \": \" + str(probDecision.round(3)))"
   ]
  },
  {
   "cell_type": "code",
   "execution_count": 65,
   "id": "d40520a8",
   "metadata": {},
   "outputs": [
    {
     "name": "stdout",
     "output_type": "stream",
     "text": [
      "Training Accuracy: 0.7386959370904325\n",
      "Validation Accuracy: 0.7428711897738446\n"
     ]
    }
   ],
   "source": [
    "print('Training Accuracy:', metrics.accuracy_score(y_train, predict_train_model))\n",
    "print('Validation Accuracy:', metrics.accuracy_score(y_test, predict_test_model))"
   ]
  },
  {
   "cell_type": "markdown",
   "id": "c6c1a1a5",
   "metadata": {},
   "source": [
    "I ran a logistic regression with participants' ratings of how much they liked their date as a predictor for whether or not they chose to go on a second date with them. Through this, I found that a participant must generally rate their date a \"7/10\" for how much they like them to be likely to ask them out on a second date. I created this model from a training set with 75% of the original dataset and tested it with a test set with the remaining 25% of the original datset, calculating a validation accuracy of between 0.7 and 0.75. This shows that this model does a relatively good job of predicting the data."
   ]
  },
  {
   "cell_type": "markdown",
   "id": "2a53a7f5",
   "metadata": {},
   "source": [
    "## Date Order"
   ]
  },
  {
   "cell_type": "markdown",
   "id": "33ee580d",
   "metadata": {},
   "source": [
    "### Does date order have an impact on whether or not a participant asks for a second date?"
   ]
  },
  {
   "cell_type": "code",
   "execution_count": 66,
   "id": "0d60c516",
   "metadata": {},
   "outputs": [
    {
     "name": "stderr",
     "output_type": "stream",
     "text": [
      "/var/folders/fy/qcsmpssn7c92sqwtlmrx28j80000gn/T/ipykernel_22110/2344345057.py:2: SettingWithCopyWarning: \n",
      "A value is trying to be set on a copy of a slice from a DataFrame.\n",
      "Try using .loc[row_indexer,col_indexer] = value instead\n",
      "\n",
      "See the caveats in the documentation: https://pandas.pydata.org/pandas-docs/stable/user_guide/indexing.html#returning-a-view-versus-a-copy\n",
      "  round_impact['round_progress'] = round_impact['order']/round_impact['round']\n"
     ]
    }
   ],
   "source": [
    "round_impact = df[['round', 'order', 'dec']]\n",
    "round_impact['round_progress'] = round_impact['order']/round_impact['round']\n",
    "only_yes = round_impact[round_impact['dec'] == 1]"
   ]
  },
  {
   "cell_type": "code",
   "execution_count": 67,
   "id": "d85721c1",
   "metadata": {},
   "outputs": [
    {
     "data": {
      "image/png": "[encoded data removed]",
      "text/plain": [
       "<Figure size 432x288 with 1 Axes>"
      ]
     },
     "metadata": {
      "needs_background": "light"
     },
     "output_type": "display_data"
    }
   ],
   "source": [
    "plt.hist(only_yes['round_progress'], ec = 'black')\n",
    "plt.xlabel('Round Progress')\n",
    "plt.ylabel('Number of Second Dates Asked For')\n",
    "plt.show()"
   ]
  },
  {
   "cell_type": "markdown",
   "id": "e0e9b329",
   "metadata": {},
   "source": [
    "As participants went on varying numbers of dates, to standardize the data, I tracked how far along a participant was in their round of dates rather than which date number they were on. Through this, I found that participants are more likely to ask for a second date at the very beginning at very end of their rounds with the latter being when they participants' are overall most likely to ask for a second date."
   ]
  },
  {
   "cell_type": "markdown",
   "id": "ceffeb54",
   "metadata": {},
   "source": [
    "This experiment showed that in speed dating, it's best to be someone's first few or last few dates of the night rather than in the middle. Regarding a higher rate of second dates being asked for in initial stages, this may be because participants come in excited about the novelty of the experience and have more energy at the beginning of the round, resulting in them asking for more second dates. Regarding lower rates of second dates being asked for in middle stages, this may be because participants are starting to feel drained and tired from meeting so many people, resulting in them not being as excited to meet and talk to more people which ultimately results in less second dates being asked for. Finally, regarding the highest rates of second dates being asked for in final stages, this may be because participants want to make the most of their last few dates since the round is ending and also make a final effort to increase their chances of having more matches, both of which would result in participants offering more second dates."
   ]
  }
 ],
 "metadata": {
  "kernelspec": {
   "display_name": "Python 3 (ipykernel)",
   "language": "python",
   "name": "python3"
  },
  "language_info": {
   "codemirror_mode": {
    "name": "ipython",
    "version": 3
   },
   "file_extension": ".py",
   "mimetype": "text/x-python",
   "name": "python",
   "nbconvert_exporter": "python",
   "pygments_lexer": "ipython3",
   "version": "3.8.8"
  }
 },
 "nbformat": 4,
 "nbformat_minor": 5
}
